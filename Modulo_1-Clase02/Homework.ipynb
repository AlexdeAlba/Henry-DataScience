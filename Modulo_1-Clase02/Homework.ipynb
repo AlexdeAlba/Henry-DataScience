{
 "cells": [
  {
   "cell_type": "markdown",
   "metadata": {},
   "source": [
    "# Práctica Clase 2"
   ]
  },
  {
   "cell_type": "markdown",
   "metadata": {},
   "source": [
    "1) Abrir el archivo \"Emisiones_CO2.csv\" y cargar sus datos en un diccionario."
   ]
  },
  {
   "cell_type": "code",
   "execution_count": 4,
   "metadata": {},
   "outputs": [],
   "source": [
    "#Codigo IA\n",
    "\n",
    "import csv\n",
    "\n",
    "#abre un archivo csv y lo carga en un diccionario\n",
    "\n",
    "\n",
    "\n",
    "# Nombre de archivo, delimitador, encabezados\n",
    "# Si tiene encabezados  = None\n",
    "def csv_to_dict(file_path,delimit,outHeader,headers):\n",
    "    with open(file_path, 'r') as file:\n",
    "        reader = csv.reader(file,delimiter=delimit)\n",
    "        if(outHeader):\n",
    "            next(reader)\n",
    "        if headers == None:\n",
    "            headers = next(reader)\n",
    "        data = {}\n",
    "        for header in headers:\n",
    "            data[header] = []\n",
    "        for row in reader:\n",
    "            for i, value in enumerate(row):\n",
    "                data[headers[i]].append(value)\n",
    "    return data\n",
    "\n"
   ]
  },
  {
   "cell_type": "code",
   "execution_count": 85,
   "metadata": {},
   "outputs": [
    {
     "ename": "SyntaxError",
     "evalue": "invalid syntax (3358757328.py, line 6)",
     "output_type": "error",
     "traceback": [
      "\u001b[1;36m  Cell \u001b[1;32mIn[85], line 6\u001b[1;36m\u001b[0m\n\u001b[1;33m    'co2_percapita' : [1:]}\u001b[0m\n\u001b[1;37m                        ^\u001b[0m\n\u001b[1;31mSyntaxError\u001b[0m\u001b[1;31m:\u001b[0m invalid syntax\n"
     ]
    }
   ],
   "source": [
    "dicc_emisiones = {  'cod_pais' : cols[1:],\n",
    "                    'nom_pais' : cols[1:],\n",
    "                    'region' : cols[1:],\n",
    "                    'anio' : cols[1:],\n",
    "                    'co2' : cols[1:],\n",
    "                    'co2_percapita' : [1:]}                    "
   ]
  },
  {
   "cell_type": "code",
   "execution_count": 5,
   "metadata": {},
   "outputs": [
    {
     "name": "stdout",
     "output_type": "stream",
     "text": [
      "Tipo de dato:  <class 'dict'>\n"
     ]
    }
   ],
   "source": [
    "#Lista del nuevo encabezado\n",
    "header = ['cod_pais','nom_pais','region','anio','co2','co2_percapita']\n",
    "\n",
    "#CArga el archivo en el diccionario data\n",
    "data = csv_to_dict('Emisiones_CO2.csv','|',True,header)\n",
    "print(\"Tipo de dato: \",type(data))\n",
    "#print(data)\n"
   ]
  },
  {
   "attachments": {},
   "cell_type": "markdown",
   "metadata": {},
   "source": [
    "#### 2) a) ¿Cuántas variables hay?"
   ]
  },
  {
   "cell_type": "code",
   "execution_count": 6,
   "metadata": {},
   "outputs": [
    {
     "name": "stdout",
     "output_type": "stream",
     "text": [
      "Numero de variables:  6\n"
     ]
    }
   ],
   "source": [
    "numVar = [ i for i in data.keys()]\n",
    "print(\"Numero de variables: \",len(numVar))"
   ]
  },
  {
   "attachments": {},
   "cell_type": "markdown",
   "metadata": {},
   "source": [
    "#### b) ¿Qué tipos de datos usar para cada una? <br>"
   ]
  },
  {
   "cell_type": "code",
   "execution_count": null,
   "metadata": {},
   "outputs": [],
   "source": []
  },
  {
   "cell_type": "markdown",
   "metadata": {},
   "source": []
  },
  {
   "attachments": {},
   "cell_type": "markdown",
   "metadata": {},
   "source": [
    "#### c) ¿Qué tipo de variables son? <br>"
   ]
  },
  {
   "cell_type": "markdown",
   "metadata": {},
   "source": []
  },
  {
   "attachments": {},
   "cell_type": "markdown",
   "metadata": {},
   "source": [
    "#### d) ¿Hay valores faltantes? <br>"
   ]
  },
  {
   "cell_type": "code",
   "execution_count": 7,
   "metadata": {},
   "outputs": [
    {
     "name": "stdout",
     "output_type": "stream",
     "text": [
      "Total de datos faltantes en  cod_pais :  0\n",
      "Total de datos faltantes en  nom_pais :  0\n",
      "Total de datos faltantes en  region :  0\n",
      "Total de datos faltantes en  anio :  0\n",
      "Total de datos faltantes en  co2 :  2095\n",
      "Total de datos faltantes en  co2_percapita :  2098\n",
      "------------------------\n",
      "Total de datos : 62,569\n",
      "Total de datos faltantes: 4,193 \n"
     ]
    }
   ],
   "source": [
    "numDatos = 0\n",
    "count = 0\n",
    "total = 0\n",
    "for d in data.keys():\n",
    "    for k in data[d]:\n",
    "        if k == \"\":\n",
    "            count+=1\n",
    "        else:\n",
    "            numDatos +=1\n",
    "    print(\"Total de datos faltantes en \",d,\": \",count)\n",
    "    total += count\n",
    "    count=0\n",
    "\n",
    "print(\"------------------------\")\n",
    "print(f\"Total de datos : {numDatos:,}\")\n",
    "print(f\"Total de datos faltantes: {total:,} \")\n"
   ]
  },
  {
   "attachments": {},
   "cell_type": "markdown",
   "metadata": {},
   "source": [
    "#### e) ¿Cuál es el total de emisiones de CO2 para 'América Latina y Caribe' en el año 2010?"
   ]
  },
  {
   "cell_type": "code",
   "execution_count": 16,
   "metadata": {},
   "outputs": [
    {
     "name": "stdout",
     "output_type": "stream",
     "text": [
      "{'Código de país': 'ABW', 'Nombre del país': 'Aruba', 'Región': 'América Latina y Caribe', 'Año': '1960', 'CO2 (kt)': '', 'CO2 per cápita (toneladas métricas)': ''}\n"
     ]
    }
   ],
   "source": [
    "import csv\n",
    "dicc_emisiones = { }\n",
    "resultado = []\n",
    "\n",
    "with open('Emisiones_CO2.csv',newline='', mode='r') as csvFile:\n",
    "    reader = csv.DictReader(csvFile,delimiter='|')\n",
    "    for row in reader:\n",
    "        resultado.append(row)\n",
    "\n",
    "    print(resultado[0])\n"
   ]
  },
  {
   "cell_type": "code",
   "execution_count": 44,
   "metadata": {},
   "outputs": [
    {
     "name": "stdout",
     "output_type": "stream",
     "text": [
      "El total de CO2 en la region es: 1,691,634.80\n"
     ]
    }
   ],
   "source": [
    "def string_to_number(cadena):\n",
    "   if(cadena == \"\"):\n",
    "      return 0\n",
    "   else:\n",
    "      sNum = cadena\n",
    "      sNum = sNum.replace(\".\", \"\") \n",
    "      sNum = sNum.replace(\",\", \".\") \n",
    "      num = float(sNum)\n",
    "      return num\n",
    "   \n",
    "\n",
    "total =0.0\n",
    "\n",
    "for res in resultado:\n",
    "   if res['Región'] == 'América Latina y Caribe' and res['Año'] == '2010' :\n",
    "      numero = string_to_number(res['CO2 (kt)'])\n",
    "      total  += numero\n",
    "print(f\"El total de CO2 en la region es: {total:,.2f}\")"
   ]
  },
  {
   "cell_type": "code",
   "execution_count": null,
   "metadata": {},
   "outputs": [],
   "source": []
  },
  {
   "cell_type": "code",
   "execution_count": null,
   "metadata": {},
   "outputs": [],
   "source": []
  }
 ],
 "metadata": {
  "kernelspec": {
   "display_name": "Python 3",
   "language": "python",
   "name": "python3"
  },
  "language_info": {
   "codemirror_mode": {
    "name": "ipython",
    "version": 3
   },
   "file_extension": ".py",
   "mimetype": "text/x-python",
   "name": "python",
   "nbconvert_exporter": "python",
   "pygments_lexer": "ipython3",
   "version": "3.10.10"
  },
  "orig_nbformat": 4,
  "vscode": {
   "interpreter": {
    "hash": "53c363dd21392edfc73f550c3ad5522e03d01d2c564ea234857e8b90909ac8d1"
   }
  }
 },
 "nbformat": 4,
 "nbformat_minor": 2
}
