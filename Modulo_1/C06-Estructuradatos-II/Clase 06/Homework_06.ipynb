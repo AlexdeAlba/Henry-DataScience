{
 "cells": [
  {
   "cell_type": "markdown",
   "metadata": {},
   "source": [
    "# Práctica Clase 6"
   ]
  },
  {
   "cell_type": "markdown",
   "metadata": {},
   "source": [
    "1) Cargar el dataset \"Emisiones_CO2.csv\" provisto en la clase 2 en un Dataframe de Pandas, quitar los registros que contengan valores faltantes e implementar una nueva columna, que contenga el resultado de una función Hash aplicada sobre el campo \"Código de País\" y se denomine \"Clave_Hash\".<br>\n",
    "Consideraciones: Se puede utilizar la función provista.\n"
   ]
  },
  {
   "cell_type": "code",
   "execution_count": 1,
   "metadata": {},
   "outputs": [],
   "source": [
    "def hash_function(key):\n",
    "    return sum(index * ord(character) for index, character in enumerate(repr(key), start=1))"
   ]
  },
  {
   "cell_type": "code",
   "execution_count": null,
   "metadata": {},
   "outputs": [],
   "source": [
    "print(hash_function('pato'))\n",
    "print(hash_function('tapo'))"
   ]
  },
  {
   "cell_type": "code",
   "execution_count": 15,
   "metadata": {},
   "outputs": [
    {
     "name": "stdout",
     "output_type": "stream",
     "text": [
      "<class 'pandas.core.frame.DataFrame'>\n",
      "Int64Index: 9029 entries, 26 to 11126\n",
      "Data columns (total 7 columns):\n",
      " #   Column                               Non-Null Count  Dtype  \n",
      "---  ------                               --------------  -----  \n",
      " 0   Código de país                       9029 non-null   object \n",
      " 1   Nombre del país                      9029 non-null   object \n",
      " 2   Región                               9029 non-null   object \n",
      " 3   Año                                  9029 non-null   int64  \n",
      " 4   CO2 (kt)                             9029 non-null   object \n",
      " 5   CO2 per cápita (toneladas métricas)  9029 non-null   float64\n",
      " 6   Clave_Hash                           9029 non-null   int64  \n",
      "dtypes: float64(1), int64(2), object(4)\n",
      "memory usage: 564.3+ KB\n"
     ]
    }
   ],
   "source": [
    "import pandas as pd\n",
    "\n",
    "df = pd.read_csv('Emisiones_CO2.csv',sep='|',decimal=',', encoding='latin-1')\n",
    "\n",
    "#Quito los registros que no tien un valor\n",
    "df.dropna(inplace=True)\n",
    "\n",
    "#nueva columna con la clave \"Clave_Hash\"\n",
    "#df['Clave_Hash'] = (df['cod_pais']).apply(hash_function_v1)   //Asi se resuelve de otra manera\n",
    "df.loc[:, 'Clave_Hash'] = hash_function(df['Código de país'])\n",
    "\n",
    "df.info()"
   ]
  },
  {
   "attachments": {},
   "cell_type": "markdown",
   "metadata": {},
   "source": [
    "###### En la sentencia => \n",
    "```    df.dropna(inplace=True)   #Por defecto viene inplace=false\n",
    "```\n",
    "<code>inplace=True</code>\n",
    "- el DataFrame original se modificará y se eliminarán las filas o columnas que contengan valores faltantes. En este caso, el método dropna() no devuelve un nuevo DataFrame, sino que modifica el DataFrame original.\n",
    "\n",
    "<code>inplace=False </code>(este es el valor predeterminado)<br> \n",
    "- Devuelve una copia del DataFrame original con los valores faltantes eliminados. En este caso, el DataFrame original no se modifica."
   ]
  },
  {
   "cell_type": "code",
   "execution_count": 14,
   "metadata": {},
   "outputs": [
    {
     "data": {
      "text/html": [
       "<div>\n",
       "<style scoped>\n",
       "    .dataframe tbody tr th:only-of-type {\n",
       "        vertical-align: middle;\n",
       "    }\n",
       "\n",
       "    .dataframe tbody tr th {\n",
       "        vertical-align: top;\n",
       "    }\n",
       "\n",
       "    .dataframe thead th {\n",
       "        text-align: right;\n",
       "    }\n",
       "</style>\n",
       "<table border=\"1\" class=\"dataframe\">\n",
       "  <thead>\n",
       "    <tr style=\"text-align: right;\">\n",
       "      <th></th>\n",
       "      <th>Código de país</th>\n",
       "      <th>Nombre del país</th>\n",
       "      <th>Región</th>\n",
       "      <th>Año</th>\n",
       "      <th>CO2 (kt)</th>\n",
       "      <th>CO2 per cápita (toneladas métricas)</th>\n",
       "      <th>Clave_Hash</th>\n",
       "    </tr>\n",
       "  </thead>\n",
       "  <tbody>\n",
       "    <tr>\n",
       "      <th>26</th>\n",
       "      <td>ABW</td>\n",
       "      <td>Aruba</td>\n",
       "      <td>América Latina y Caribe</td>\n",
       "      <td>1986</td>\n",
       "      <td>179,683</td>\n",
       "      <td>2.868319</td>\n",
       "      <td>1206698</td>\n",
       "    </tr>\n",
       "    <tr>\n",
       "      <th>27</th>\n",
       "      <td>ABW</td>\n",
       "      <td>Aruba</td>\n",
       "      <td>América Latina y Caribe</td>\n",
       "      <td>1987</td>\n",
       "      <td>447,374</td>\n",
       "      <td>7.234964</td>\n",
       "      <td>1206698</td>\n",
       "    </tr>\n",
       "    <tr>\n",
       "      <th>28</th>\n",
       "      <td>ABW</td>\n",
       "      <td>Aruba</td>\n",
       "      <td>América Latina y Caribe</td>\n",
       "      <td>1988</td>\n",
       "      <td>612,389</td>\n",
       "      <td>10.026508</td>\n",
       "      <td>1206698</td>\n",
       "    </tr>\n",
       "    <tr>\n",
       "      <th>29</th>\n",
       "      <td>ABW</td>\n",
       "      <td>Aruba</td>\n",
       "      <td>América Latina y Caribe</td>\n",
       "      <td>1989</td>\n",
       "      <td>649,059</td>\n",
       "      <td>10.634733</td>\n",
       "      <td>1206698</td>\n",
       "    </tr>\n",
       "    <tr>\n",
       "      <th>30</th>\n",
       "      <td>ABW</td>\n",
       "      <td>Aruba</td>\n",
       "      <td>América Latina y Caribe</td>\n",
       "      <td>1990</td>\n",
       "      <td>1.840,83</td>\n",
       "      <td>29.620165</td>\n",
       "      <td>1206698</td>\n",
       "    </tr>\n",
       "  </tbody>\n",
       "</table>\n",
       "</div>"
      ],
      "text/plain": [
       "   Código de país Nombre del país                   Región   Año  CO2 (kt)  \\\n",
       "26            ABW           Aruba  América Latina y Caribe  1986   179,683   \n",
       "27            ABW           Aruba  América Latina y Caribe  1987   447,374   \n",
       "28            ABW           Aruba  América Latina y Caribe  1988   612,389   \n",
       "29            ABW           Aruba  América Latina y Caribe  1989   649,059   \n",
       "30            ABW           Aruba  América Latina y Caribe  1990  1.840,83   \n",
       "\n",
       "    CO2 per cápita (toneladas métricas)  Clave_Hash  \n",
       "26                             2.868319     1206698  \n",
       "27                             7.234964     1206698  \n",
       "28                            10.026508     1206698  \n",
       "29                            10.634733     1206698  \n",
       "30                            29.620165     1206698  "
      ]
     },
     "execution_count": 14,
     "metadata": {},
     "output_type": "execute_result"
    }
   ],
   "source": [
    "df.head()"
   ]
  },
  {
   "cell_type": "markdown",
   "metadata": {},
   "source": [
    "2. A partir del Dataframe creado en el punto 1, construir uno nuevo, que contenga solo los valores distintos de la tupla \"Clave_Hash\", \"Código de País\" , \"Nombre de país\" y \"Región\". Quitando luego del dataframe original los campos \"Código de País\" , \"Nombre de país\" y \"Región\""
   ]
  },
  {
   "cell_type": "code",
   "execution_count": 17,
   "metadata": {},
   "outputs": [
    {
     "data": {
      "text/plain": [
       "Index(['Código de país', 'Nombre del país', 'Región', 'Año', 'CO2 (kt)',\n",
       "       'CO2 per cápita (toneladas métricas)', 'Clave_Hash'],\n",
       "      dtype='object')"
      ]
     },
     "execution_count": 17,
     "metadata": {},
     "output_type": "execute_result"
    }
   ],
   "source": [
    "df.keys()"
   ]
  },
  {
   "cell_type": "code",
   "execution_count": 19,
   "metadata": {},
   "outputs": [
    {
     "data": {
      "text/plain": [
       "<bound method DataFrame.info of        Clave_Hash Código de país                Nombre del país  \\\n",
       "26        1206698            ABW                          Aruba   \n",
       "87        1206698            AND                        Andorra   \n",
       "104       1206698            AFG                     Afganistán   \n",
       "156       1206698            AGO                         Angola   \n",
       "208       1206698            ALB                        Albania   \n",
       "...           ...            ...                            ...   \n",
       "10867     1206698            YEM                          Yemen   \n",
       "10919     1206698            ZAF                      Sudáfrica   \n",
       "10971     1206698            COD  Congo (República Democrática)   \n",
       "11027     1206698            ZMB                         Zambia   \n",
       "11079     1206698            ZWE                       Zimbabue   \n",
       "\n",
       "                                Región  \n",
       "26             América Latina y Caribe  \n",
       "87               Europa y Asia Central  \n",
       "104                        Sur de Asia  \n",
       "156                África subsahariana  \n",
       "208              Europa y Asia Central  \n",
       "...                                ...  \n",
       "10867  Oriente Medio y Norte de África  \n",
       "10919              África subsahariana  \n",
       "10971              África subsahariana  \n",
       "11027              África subsahariana  \n",
       "11079              África subsahariana  \n",
       "\n",
       "[199 rows x 4 columns]>"
      ]
     },
     "execution_count": 19,
     "metadata": {},
     "output_type": "execute_result"
    }
   ],
   "source": [
    "# Seleccionar solo las columnas 'Clave_Hash', 'Código de País', 'Nombre de país' y 'Región', y eliminar las filas duplicadas\n",
    "df_Index = df[['Clave_Hash','Código de país','Nombre del país','Región']].drop_duplicates()\n",
    "df_Index.info"
   ]
  }
 ],
 "metadata": {
  "kernelspec": {
   "display_name": "HDS",
   "language": "python",
   "name": "python3"
  },
  "language_info": {
   "codemirror_mode": {
    "name": "ipython",
    "version": 3
   },
   "file_extension": ".py",
   "mimetype": "text/x-python",
   "name": "python",
   "nbconvert_exporter": "python",
   "pygments_lexer": "ipython3",
   "version": "3.11.2"
  },
  "vscode": {
   "interpreter": {
    "hash": "787ecc562d45c363e3b38f98f05280f88cf8dc5f0273daa9ac597a44bc3e73ab"
   }
  }
 },
 "nbformat": 4,
 "nbformat_minor": 4
}
