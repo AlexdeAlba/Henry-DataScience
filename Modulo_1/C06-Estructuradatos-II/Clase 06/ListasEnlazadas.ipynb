{
 "cells": [
  {
   "cell_type": "code",
   "execution_count": 3,
   "metadata": {},
   "outputs": [],
   "source": [
    "class Node:\n",
    "    def __init__(self, data=None):\n",
    "        self.data = data\n",
    "        self.next = None\n",
    "\n",
    "\n",
    "class LinkedList:\n",
    "    def __init__(self):\n",
    "        self.head = None\n",
    "\n",
    "    #Agrega un nuevo nodo al final de la lista enlazada\n",
    "    def append(self, data):\n",
    "        new_node = Node(data)\n",
    "        if self.head is None:   #Si es el primer nodo\n",
    "            self.head = new_node\n",
    "            return\n",
    "        last_node = self.head\n",
    "        while last_node.next:\n",
    "            last_node = last_node.next\n",
    "        last_node.next = new_node\n",
    "\n",
    "    #Agrega un nuevo nodo al inicio de la lista enlazada\n",
    "    def prepend(self, data):\n",
    "        new_node = Node(data)\n",
    "        new_node.next = self.head\n",
    "        self.head = new_node\n",
    "\n",
    "    # Agrega un nuevo nodo después de un nodo específico en la lista enlazada\n",
    "    def insert_after_node(self, prev_node, data):\n",
    "        if not prev_node:\n",
    "            print(\"Previous node is not in the list\")\n",
    "            return\n",
    "        new_node = Node(data)\n",
    "        new_node.next = prev_node.next\n",
    "        prev_node.next = new_node\n",
    "\n",
    "    # Elimina el primer nodo que contiene un dato específico de la lista enlazada\n",
    "    def delete_node(self, key):\n",
    "        curr_node = self.head\n",
    "        if curr_node and curr_node.data == key:\n",
    "            self.head = curr_node.next\n",
    "            curr_node = None\n",
    "            return\n",
    "        prev_node = None\n",
    "        while curr_node and curr_node.data != key:\n",
    "            prev_node = curr_node\n",
    "            curr_node = curr_node.next\n",
    "        if curr_node is None:\n",
    "            return\n",
    "        prev_node.next = curr_node.next\n",
    "        curr_node = None\n",
    "\n",
    "    # Elimina un nodo en una posición específica de la lista enlazada.\n",
    "    def delete_node_at_pos(self, pos):\n",
    "        curr_node = self.head\n",
    "        if pos == 0:\n",
    "            self.head = curr_node.next\n",
    "            curr_node = None\n",
    "            return\n",
    "        prev_node = None\n",
    "        count = 0\n",
    "        while curr_node and count != pos:\n",
    "            prev_node = curr_node\n",
    "            curr_node = curr_node.next\n",
    "            count += 1\n",
    "        if curr_node is None:\n",
    "            return\n",
    "        prev_node.next = curr_node.next\n",
    "        curr_node = None\n",
    "\n",
    "    # Imprime la lista enlazada.\n",
    "    def print_list(self):\n",
    "        curr_node = self.head\n",
    "        while curr_node:\n",
    "            print(curr_node.data)\n",
    "            curr_node = curr_node.next\n",
    "    \n",
    "    # Devuelve una lista de los valores existentes\n",
    "    def return_list(self):\n",
    "        nodos = []\n",
    "        curr_node = self.head\n",
    "        while curr_node:\n",
    "            nodos.append(curr_node.data)\n",
    "            curr_node = curr_node.next\n",
    "        return nodos\n",
    "\n"
   ]
  },
  {
   "cell_type": "code",
   "execution_count": 4,
   "metadata": {},
   "outputs": [
    {
     "name": "stdout",
     "output_type": "stream",
     "text": [
      "A\n",
      "B\n",
      "C\n",
      "D\n",
      "['A', 'B', 'C', 'D']\n"
     ]
    }
   ],
   "source": [
    "my_list = LinkedList()\n",
    "\n",
    "my_list.append(\"A\")\n",
    "my_list.append(\"B\")\n",
    "my_list.append(\"C\")\n",
    "my_list.append(\"D\")\n",
    "my_list.print_list()\n",
    "\n",
    "lista_nodos = my_list.return_list()\n",
    "print(lista_nodos)\n"
   ]
  }
 ],
 "metadata": {
  "kernelspec": {
   "display_name": "HDS",
   "language": "python",
   "name": "python3"
  },
  "language_info": {
   "codemirror_mode": {
    "name": "ipython",
    "version": 3
   },
   "file_extension": ".py",
   "mimetype": "text/x-python",
   "name": "python",
   "nbconvert_exporter": "python",
   "pygments_lexer": "ipython3",
   "version": "3.11.2"
  },
  "orig_nbformat": 4,
  "vscode": {
   "interpreter": {
    "hash": "787ecc562d45c363e3b38f98f05280f88cf8dc5f0273daa9ac597a44bc3e73ab"
   }
  }
 },
 "nbformat": 4,
 "nbformat_minor": 2
}
