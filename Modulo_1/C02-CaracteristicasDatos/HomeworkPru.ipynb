{
 "cells": [
  {
   "cell_type": "markdown",
   "metadata": {},
   "source": [
    "# Práctica Clase 2"
   ]
  },
  {
   "cell_type": "markdown",
   "metadata": {},
   "source": [
    "1) Abrir el archivo \"Emisiones_CO2.csv\" y cargar sus datos en un diccionario."
   ]
  },
  {
   "cell_type": "code",
   "execution_count": 123,
   "metadata": {},
   "outputs": [],
   "source": [
    "import os\n",
    "archivo = open('Emisiones_CO2.csv','r')"
   ]
  },
  {
   "cell_type": "code",
   "execution_count": 124,
   "metadata": {},
   "outputs": [
    {
     "name": "stdout",
     "output_type": "stream",
     "text": [
      "{'Código de país': 'ABW', 'Nombre del país': 'Aruba', 'Región': 'América Latina y Caribe', 'Año': '1960', 'CO2 (kt)': '', 'CO2 per cápita (toneladas métricas)': ''}\n"
     ]
    }
   ],
   "source": [
    "import csv\n",
    "dicc_emisiones = { }\n",
    "resultado = []\n",
    "\n",
    "with open('Emisiones_CO2.csv',newline='', mode='r',) as csvFile:\n",
    "    reader = csv.DictReader(csvFile,delimiter='|')\n",
    "    for row in reader:\n",
    "        resultado.append(row)\n",
    "\n",
    "    print(resultado[0])\n",
    "    \n",
    "    \n",
    "   \n"
   ]
  },
  {
   "cell_type": "code",
   "execution_count": 125,
   "metadata": {},
   "outputs": [
    {
     "data": {
      "text/plain": [
       "'ZWE'"
      ]
     },
     "execution_count": 125,
     "metadata": {},
     "output_type": "execute_result"
    }
   ],
   "source": [
    "import csv\n",
    "with open('Emisiones_CO2.csv',newline='', mode='r',) as csvFile:\n",
    "    reader = csv.DictReader(csvFile,delimiter='|')\n",
    "    #The row is a Python dictionary and we reference the data with the keys.\n",
    "    for row in reader:\n",
    "        dic1= row['Código de país']\n",
    "        #print(row['Código de país'],row['Nombre del país'],row['Región'],row['Año'],row['CO2 (kt)'],row['CO2 per cápita (toneladas métricas)'])\n",
    "\n",
    "dic1"
   ]
  },
  {
   "cell_type": "code",
   "execution_count": 126,
   "metadata": {},
   "outputs": [
    {
     "name": "stdout",
     "output_type": "stream",
     "text": [
      "Numero de Lineas 11128\n",
      "Numero de Lineas None\n"
     ]
    }
   ],
   "source": [
    "print(\"Numero de Lineas\",reader.line_num)\n",
    "print(\"Numero de Lineas\",reader.restkey)"
   ]
  },
  {
   "cell_type": "code",
   "execution_count": 127,
   "metadata": {},
   "outputs": [
    {
     "name": "stdout",
     "output_type": "stream",
     "text": [
      "Tipo de dato:  <class 'dict'>\n"
     ]
    }
   ],
   "source": [
    "#Codigo IA\n",
    "\n",
    "import csv\n",
    "\n",
    "def csv_to_dict(file_path,delimit):\n",
    "    with open(file_path, 'r') as file:\n",
    "        reader = csv.reader(file,delimiter=delimit)\n",
    "        headers = next(reader)\n",
    "        data = {}\n",
    "        for header in headers:\n",
    "            data[header] = []\n",
    "        for row in reader:\n",
    "            for i, value in enumerate(row):\n",
    "                data[headers[i]].append(value)\n",
    "    return data\n",
    "\n",
    "data = csv_to_dict('Emisiones_CO2.csv','|')\n",
    "print(\"Tipo de dato: \",type(data))\n",
    "#print(data)\n",
    "\n"
   ]
  },
  {
   "cell_type": "code",
   "execution_count": 128,
   "metadata": {},
   "outputs": [
    {
     "name": "stdout",
     "output_type": "stream",
     "text": [
      "Claves: dict_keys(['Código de país', 'Nombre del país', 'Región', 'Año', 'CO2 (kt)', 'CO2 per cápita (toneladas métricas)'])\n"
     ]
    }
   ],
   "source": [
    "# Imprimir las claves del diccionario\n",
    "print(\"Claves:\", data.keys())\n",
    "\n",
    "# Imprimir los valores del diccionario\n",
    "#print(\"Valores:\", data.values())\n",
    "\n",
    "# Imprimir cada clave y su valor correspondiente\n",
    "#for key, value in data.items():\n",
    "    #print(key, \":\", value)\n"
   ]
  },
  {
   "cell_type": "code",
   "execution_count": 129,
   "metadata": {},
   "outputs": [
    {
     "data": {
      "text/plain": [
       "['Aruba',\n",
       " 'Aruba',\n",
       " 'Aruba',\n",
       " 'Aruba',\n",
       " 'Aruba',\n",
       " 'Aruba',\n",
       " 'Aruba',\n",
       " 'Aruba',\n",
       " 'Aruba',\n",
       " 'Aruba']"
      ]
     },
     "execution_count": 129,
     "metadata": {},
     "output_type": "execute_result"
    }
   ],
   "source": [
    "data['Nombre del país'][:10]"
   ]
  },
  {
   "cell_type": "code",
   "execution_count": 130,
   "metadata": {},
   "outputs": [
    {
     "ename": "KeyError",
     "evalue": "'nombre'",
     "output_type": "error",
     "traceback": [
      "\u001b[1;31m---------------------------------------------------------------------------\u001b[0m",
      "\u001b[1;31mKeyError\u001b[0m                                  Traceback (most recent call last)",
      "Cell \u001b[1;32mIn[130], line 1\u001b[0m\n\u001b[1;32m----> 1\u001b[0m \u001b[39mprint\u001b[39m(data[\u001b[39m'\u001b[39;49m\u001b[39mnombre\u001b[39;49m\u001b[39m'\u001b[39;49m])\n\u001b[0;32m      2\u001b[0m \u001b[39m#eldato = [dat for dat in data.items]\u001b[39;00m\n",
      "\u001b[1;31mKeyError\u001b[0m: 'nombre'"
     ]
    }
   ],
   "source": [
    "print(data['nombre'])\n",
    "#eldato = [dat for dat in data.items]"
   ]
  },
  {
   "cell_type": "code",
   "execution_count": null,
   "metadata": {},
   "outputs": [
    {
     "name": "stdout",
     "output_type": "stream",
     "text": [
      "codigo\n",
      "nombre\n",
      "region\n",
      "año\n",
      "co2(kt)\n",
      "co2(TM)\n"
     ]
    }
   ],
   "source": [
    "head = ['codigo','nombre','region','año','co2(kt)','co2(TM)']\n",
    "i=0\n",
    "for dat in data:\n",
    "     dat=head[i]\n",
    "     i+=1\n",
    "     print(dat)"
   ]
  },
  {
   "attachments": {},
   "cell_type": "markdown",
   "metadata": {},
   "source": [
    "<H5> csv.DictReader</H5>\n",
    "Se abre el Archivo con *DictReader*, <br> \n",
    "    ** Supuestamente se abre en un diccionario pero no se puede iterar como diccionario, ni lo reconoce como tal"
   ]
  },
  {
   "cell_type": "code",
   "execution_count": 132,
   "metadata": {},
   "outputs": [
    {
     "name": "stdout",
     "output_type": "stream",
     "text": [
      "['América Latina y Caribe', 'Europa y Asia Central', 'Sur de Asia', 'África subsahariana', 'Oriente Medio y Norte de África']\n",
      "['Aruba', 'Andorra', 'Afganistán', 'Angola', 'Albania']\n",
      "['1960', '1961', '1962', '1963', '1964']\n",
      "['ABW', 'AND', 'AFG', 'AGO', 'ALB']\n"
     ]
    }
   ],
   "source": [
    "Regiones = []\n",
    "Paises = []\n",
    "Años = []\n",
    "Codigos = []\n",
    "with open('Emisiones_CO2.csv',newline='', mode='r',) as csvFile:\n",
    "    reader = csv.DictReader(csvFile,delimiter='|')\n",
    "    for row in reader:\n",
    "        if row['Región'] not in Regiones:\n",
    "            Regiones.append(row['Región']) \n",
    "        if row['Nombre del país'] not in Paises:\n",
    "            Paises.append(row['Nombre del país'])\n",
    "        if row['Año'] not in Años:\n",
    "            Años.append(row['Año'])\n",
    "        if row['Código de país'] not in Codigos:\n",
    "            Codigos.append(row['Código de país'])\n",
    "print(Regiones[:5])\n",
    "print(Paises[:5])\n",
    "print(Años[:5])\n",
    "print(Codigos[:5])"
   ]
  },
  {
   "attachments": {},
   "cell_type": "markdown",
   "metadata": {},
   "source": [
    "Pruebo abrirlo y uso condiciones para filtrarlo"
   ]
  },
  {
   "cell_type": "code",
   "execution_count": 138,
   "metadata": {},
   "outputs": [
    {
     "name": "stdout",
     "output_type": "stream",
     "text": [
      "Aruba \n",
      "Andorra \n",
      "Afganistán 1.760,16\n",
      "Angola 5.346,49\n",
      "Albania 5.170,47\n",
      "Emiratos Árabes Unidos 36.904,69\n"
     ]
    }
   ],
   "source": [
    "import csv\n",
    "i=0\n",
    "with open('Emisiones_CO2.csv',newline='', mode='r',) as csvFile:\n",
    "    reader = csv.DictReader(csvFile,delimiter='|')\n",
    "    for row in reader:\n",
    "        if(row['Año'] == '1980' and row['CO2 (kt)'] != None):\n",
    "            print(row['Nombre del país'],row['CO2 (kt)'])\n",
    "            if(i>4):\n",
    "                break\n",
    "            i+=1\n"
   ]
  },
  {
   "attachments": {},
   "cell_type": "markdown",
   "metadata": {},
   "source": [
    "El tipó de datos que retorna DictReader, reader.fieldnames, "
   ]
  },
  {
   "cell_type": "code",
   "execution_count": 139,
   "metadata": {},
   "outputs": [
    {
     "name": "stdout",
     "output_type": "stream",
     "text": [
      "Tipo de dato en reader:  <class 'csv.DictReader'>\n",
      "Tipo de dato en reader.fieldnames:  <class 'list'>\n",
      "Numero de variables:  6\n"
     ]
    }
   ],
   "source": [
    "print(\"Tipo de dato en reader: \",type(reader))\n",
    "print(\"Tipo de dato en reader.fieldnames: \",type(reader.fieldnames))\n",
    "print(\"Numero de variables: \",len(reader.fieldnames))\n",
    "#help(csv.DictReader)"
   ]
  },
  {
   "cell_type": "code",
   "execution_count": null,
   "metadata": {},
   "outputs": [],
   "source": []
  },
  {
   "cell_type": "code",
   "execution_count": null,
   "metadata": {},
   "outputs": [
    {
     "name": "stdout",
     "output_type": "stream",
     "text": [
      "¿Tiene cabecero? True\n",
      "El delimitador es: |\n"
     ]
    }
   ],
   "source": [
    "snf = csv.Sniffer()\n",
    "\n",
    "with open(\"Emisiones_CO2.csv\", \"r\") as f:\n",
    "    sample = \"\".join(f.readlines())\n",
    "    print(f\"¿Tiene cabecera?. : {snf.has_header(sample)}\")\n",
    "    dialecto = snf.sniff(sample)\n",
    "    print(f\"El delimitador es: {dialecto.delimiter}\")"
   ]
  },
  {
   "cell_type": "code",
   "execution_count": null,
   "metadata": {},
   "outputs": [
    {
     "name": "stdout",
     "output_type": "stream",
     "text": [
      "<generator object CsvToDict.<locals>.<genexpr> at 0x00000163F109B4C0>\n"
     ]
    }
   ],
   "source": [
    "import csv\n",
    "\n",
    "def CsvToDict(filename):\n",
    "    with open(filename,newline='', mode='r',) as csvFile:\n",
    "        reader = csv.DictReader(csvFile,delimiter='|')\n",
    "        return(row for row in reader)\n",
    "\n",
    "data = CsvToDict(\"Emisiones_CO2.csv\")\n",
    "print(data)"
   ]
  },
  {
   "cell_type": "code",
   "execution_count": null,
   "metadata": {},
   "outputs": [],
   "source": []
  },
  {
   "cell_type": "code",
   "execution_count": null,
   "metadata": {},
   "outputs": [],
   "source": [
    "with open('Emisiones_CO2.csv',newline='', mode='r',) as csvFile:\n",
    "    reader = csv.DictReader(csvFile,delimiter='|')\n",
    "    for row in reader:\n",
    "        if row['Región'] not in Regiones:\n",
    "            Regiones.append(row['Región']) \n",
    "        if row['Nombre del país'] not in Paises:\n",
    "            Paises.append(row['Nombre del país'])\n",
    "        if row['Año'] not in Años:\n",
    "            Años.append(row['Año'])\n",
    "        if row['Código de país'] not in Codigos:\n",
    "            Codigos.append(row['Código de país'])\n",
    "print(Regiones)\n",
    "print(Paises)\n",
    "print(Años)\n",
    "print(Codigos)"
   ]
  },
  {
   "cell_type": "code",
   "execution_count": null,
   "metadata": {},
   "outputs": [
    {
     "ename": "SyntaxError",
     "evalue": "invalid syntax (2678247163.py, line 6)",
     "output_type": "error",
     "traceback": [
      "\u001b[1;36m  Cell \u001b[1;32mIn[5], line 6\u001b[1;36m\u001b[0m\n\u001b[1;33m    'co2_percapita' : [1:]}\u001b[0m\n\u001b[1;37m                        ^\u001b[0m\n\u001b[1;31mSyntaxError\u001b[0m\u001b[1;31m:\u001b[0m invalid syntax\n"
     ]
    }
   ],
   "source": [
    "dicc_emisiones = {  'cod_pais' : cols[1:],\n",
    "                    'nom_pais' : cols[1:],\n",
    "                    'region' : cols[1:],\n",
    "                    'anio' : cols[1:],\n",
    "                    'co2' : cols[1:],\n",
    "                    'co2_percapita' : [1:]}"
   ]
  },
  {
   "cell_type": "code",
   "execution_count": null,
   "metadata": {},
   "outputs": [
    {
     "ename": "NameError",
     "evalue": "name 'dicc_emisiones' is not defined",
     "output_type": "error",
     "traceback": [
      "\u001b[1;31m---------------------------------------------------------------------------\u001b[0m",
      "\u001b[1;31mNameError\u001b[0m                                 Traceback (most recent call last)",
      "Cell \u001b[1;32mIn[6], line 1\u001b[0m\n\u001b[1;32m----> 1\u001b[0m dicc_emisiones\n",
      "\u001b[1;31mNameError\u001b[0m: name 'dicc_emisiones' is not defined"
     ]
    }
   ],
   "source": [
    "dicc_emisiones"
   ]
  },
  {
   "cell_type": "code",
   "execution_count": null,
   "metadata": {},
   "outputs": [
    {
     "ename": "TypeError",
     "evalue": "'_csv.reader' object is not subscriptable",
     "output_type": "error",
     "traceback": [
      "\u001b[1;31m---------------------------------------------------------------------------\u001b[0m",
      "\u001b[1;31mTypeError\u001b[0m                                 Traceback (most recent call last)",
      "Cell \u001b[1;32mIn[9], line 3\u001b[0m\n\u001b[0;32m      1\u001b[0m \u001b[39mimport\u001b[39;00m \u001b[39mpandas\u001b[39;00m \u001b[39mas\u001b[39;00m \u001b[39mpd\u001b[39;00m\n\u001b[1;32m----> 3\u001b[0m df \u001b[39m=\u001b[39m pd\u001b[39m.\u001b[39mDataFrame({  \u001b[39m\"\u001b[39m\u001b[39mItemGroup\u001b[39m\u001b[39m\"\u001b[39m: reader[\u001b[39m1\u001b[39;49m:]})\n",
      "\u001b[1;31mTypeError\u001b[0m: '_csv.reader' object is not subscriptable"
     ]
    }
   ],
   "source": [
    "import pandas as pd\n",
    "\n",
    "df = pd.DataFrame({  \"ItemGroup\": reader[1:]})\n",
    "    "
   ]
  },
  {
   "cell_type": "code",
   "execution_count": null,
   "metadata": {},
   "outputs": [
    {
     "name": "stdout",
     "output_type": "stream",
     "text": [
      "<_csv.reader object at 0x0000019515567040>\n"
     ]
    }
   ],
   "source": [
    "print(reader)"
   ]
  },
  {
   "cell_type": "code",
   "execution_count": null,
   "metadata": {},
   "outputs": [],
   "source": []
  },
  {
   "attachments": {},
   "cell_type": "markdown",
   "metadata": {},
   "source": [
    "##### 2) a) ¿Cuántas variables hay?"
   ]
  },
  {
   "cell_type": "code",
   "execution_count": null,
   "metadata": {},
   "outputs": [],
   "source": []
  },
  {
   "cell_type": "markdown",
   "metadata": {},
   "source": [
    "2) a) ¿Cuántas variables hay? <br>\n",
    "b) ¿Qué tipos de datos usar para cada una? <br>\n",
    "c) ¿Qué tipo de variables son? <br>\n",
    "d) ¿Hay valores faltantes? <br>\n",
    "e) ¿Cuál es el total de emisiones de CO2 para 'América Latina y Caribe' en el año 2010?"
   ]
  }
 ],
 "metadata": {
  "kernelspec": {
   "display_name": "Python 3",
   "language": "python",
   "name": "python3"
  },
  "language_info": {
   "codemirror_mode": {
    "name": "ipython",
    "version": 3
   },
   "file_extension": ".py",
   "mimetype": "text/x-python",
   "name": "python",
   "nbconvert_exporter": "python",
   "pygments_lexer": "ipython3",
   "version": "3.10.10"
  },
  "orig_nbformat": 4,
  "vscode": {
   "interpreter": {
    "hash": "53c363dd21392edfc73f550c3ad5522e03d01d2c564ea234857e8b90909ac8d1"
   }
  }
 },
 "nbformat": 4,
 "nbformat_minor": 2
}
