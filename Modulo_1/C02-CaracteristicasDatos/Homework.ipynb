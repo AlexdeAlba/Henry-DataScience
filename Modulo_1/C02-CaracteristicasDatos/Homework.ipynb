{
 "cells": [
  {
   "cell_type": "markdown",
   "metadata": {},
   "source": [
    "# Práctica Clase 2"
   ]
  },
  {
   "cell_type": "markdown",
   "metadata": {},
   "source": [
    "1) Abrir el archivo \"Emisiones_CO2.csv\" y cargar sus datos en un diccionario."
   ]
  },
  {
   "cell_type": "code",
   "execution_count": 62,
   "metadata": {},
   "outputs": [],
   "source": [
    "#Codigo IA\n",
    "\n",
    "import csv\n",
    "\n",
    "#abre un archivo csv y lo carga en un diccionario\n",
    "#Carga los encabezados como keys y las columnas\n",
    "# respectivas como el valor en una lista \n",
    "\n",
    "\n",
    "\n",
    "# Nombre de archivo, delimitador, encabezados\n",
    "# Si tiene encabezados  = None\n",
    "def csv_to_dict(file_path,delimit,outHeader,headers):\n",
    "    with open(file_path, 'r') as file:\n",
    "        reader = csv.reader(file,delimiter=delimit)\n",
    "        if(outHeader):\n",
    "            next(reader)\n",
    "        if headers == None:\n",
    "            headers = next(reader)\n",
    "        data = {}\n",
    "        for header in headers:\n",
    "            data[header] = []\n",
    "        for row in reader:\n",
    "            for i, value in enumerate(row):\n",
    "                data[headers[i]].append(value)\n",
    "    return data\n",
    "\n"
   ]
  },
  {
   "cell_type": "code",
   "execution_count": 63,
   "metadata": {},
   "outputs": [
    {
     "name": "stdout",
     "output_type": "stream",
     "text": [
      "ABW\n",
      "Aruba\n",
      "América Latina y Caribe\n",
      "1960\n",
      "\n",
      "\n",
      "ABW\n",
      "Aruba\n",
      "América Latina y Caribe\n",
      "1961\n",
      "\n",
      "\n",
      "ABW\n",
      "Aruba\n",
      "América Latina y Caribe\n",
      "1962\n",
      "\n",
      "\n"
     ]
    }
   ],
   "source": [
    "#Recorro el diccionario con los datos por pais\n",
    "\n",
    "llaves = [dat for dat in data.keys()]\n",
    "#print(data.values())\n",
    "for i in range(3):\n",
    "    for dat in llaves: \n",
    "        print(data[dat][i])\n",
    "        \n",
    "#print(data['cod_pais'][:5])"
   ]
  },
  {
   "cell_type": "code",
   "execution_count": 55,
   "metadata": {},
   "outputs": [
    {
     "data": {
      "text/plain": [
       "dict_keys"
      ]
     },
     "execution_count": 55,
     "metadata": {},
     "output_type": "execute_result"
    }
   ],
   "source": [
    "type(llaves)"
   ]
  },
  {
   "cell_type": "code",
   "execution_count": 67,
   "metadata": {},
   "outputs": [
    {
     "ename": "SyntaxError",
     "evalue": "invalid syntax. Perhaps you forgot a comma? (2941143730.py, line 1)",
     "output_type": "error",
     "traceback": [
      "\u001b[1;36m  Cell \u001b[1;32mIn[67], line 1\u001b[1;36m\u001b[0m\n\u001b[1;33m    dicc_emisiones = {  'cod_pais' : cols[],\u001b[0m\n\u001b[1;37m                                     ^\u001b[0m\n\u001b[1;31mSyntaxError\u001b[0m\u001b[1;31m:\u001b[0m invalid syntax. Perhaps you forgot a comma?\n"
     ]
    }
   ],
   "source": [
    "dicc_emisiones = {  'cod_pais' : cols[],\n",
    "                    'nom_pais' : cols[],\n",
    "                    'region' : cols[],\n",
    "                    'anio' : cols[],\n",
    "                    'co2' : cols[],\n",
    "                    'co2_percapita' : []}                    "
   ]
  },
  {
   "cell_type": "code",
   "execution_count": 65,
   "metadata": {},
   "outputs": [
    {
     "name": "stdout",
     "output_type": "stream",
     "text": [
      "Tipo de dato:  <class 'dict'>\n"
     ]
    }
   ],
   "source": [
    "#Lista del nuevo encabezado\n",
    "header = ['cod_pais','nom_pais','region','anio','co2','co2_percapita']\n",
    "\n",
    "#CArga el archivo en el diccionario data\n",
    "data = csv_to_dict('Emisiones_CO2.csv','|',True,header)\n",
    "print(\"Tipo de dato: \",type(data))\n",
    "#print(data)\n"
   ]
  },
  {
   "cell_type": "code",
   "execution_count": 70,
   "metadata": {},
   "outputs": [
    {
     "name": "stdout",
     "output_type": "stream",
     "text": [
      "cod_pais : ABW\n",
      "nom_pais : Aruba\n",
      "region : América Latina y Caribe\n",
      "anio : 1990\n",
      "co2 : 1.840,83\n",
      "co2_percapita : 29,620164768\n"
     ]
    }
   ],
   "source": [
    "#Encontrar un solo registro en este caso el 30\n",
    "claves = data.keys()\n",
    "for clave in claves:\n",
    "    print(clave,\":\",data[clave][30])"
   ]
  },
  {
   "cell_type": "code",
   "execution_count": 66,
   "metadata": {},
   "outputs": [
    {
     "ename": "NameError",
     "evalue": "name 'close' is not defined",
     "output_type": "error",
     "traceback": [
      "\u001b[1;31m---------------------------------------------------------------------------\u001b[0m",
      "\u001b[1;31mNameError\u001b[0m                                 Traceback (most recent call last)",
      "Cell \u001b[1;32mIn[66], line 1\u001b[0m\n\u001b[1;32m----> 1\u001b[0m close(file)\n",
      "\u001b[1;31mNameError\u001b[0m: name 'close' is not defined"
     ]
    }
   ],
   "source": [
    "file.close()"
   ]
  },
  {
   "attachments": {},
   "cell_type": "markdown",
   "metadata": {},
   "source": [
    "#### 2) a) ¿Cuántas variables hay?"
   ]
  },
  {
   "cell_type": "code",
   "execution_count": 69,
   "metadata": {},
   "outputs": [
    {
     "name": "stdout",
     "output_type": "stream",
     "text": [
      "Numero de variables:  6\n"
     ]
    }
   ],
   "source": [
    "numVar = len(data.keys())\n",
    "print(\"Numero de variables: \",numVar)"
   ]
  },
  {
   "attachments": {},
   "cell_type": "markdown",
   "metadata": {},
   "source": [
    "#### b) ¿Qué tipos de datos usar para cada una? <br>"
   ]
  },
  {
   "attachments": {},
   "cell_type": "markdown",
   "metadata": {},
   "source": [
    "Variable|Tipo de Dato\n",
    "|-|-|\n",
    "*Código de país* |      Datos cualitativos \n",
    "*Nombre del país* |     Datos cualitativos\n",
    "*Región* |              Datos cualitativos\n",
    "*Año*   |               Datos Ordinales\n",
    "*co2*   |               Datos Cuantitativos \n",
    "*co2_percapita* |       Datos Cuantitativos"
   ]
  },
  {
   "attachments": {},
   "cell_type": "markdown",
   "metadata": {},
   "source": [
    "#### c) ¿Qué tipo de variables son? <br>"
   ]
  },
  {
   "attachments": {},
   "cell_type": "markdown",
   "metadata": {},
   "source": [
    "Variable|Tipo de Variable\n",
    "|-|-|\n",
    "*Código de país* |      String \n",
    "*Nombre del país* |     String\n",
    "*Región* |              String\n",
    "*Año*   |               integer\n",
    "*co2*   |               float\n",
    "*co2_percapita* |       float"
   ]
  },
  {
   "attachments": {},
   "cell_type": "markdown",
   "metadata": {},
   "source": [
    "#### d) ¿Hay valores faltantes? <br>"
   ]
  },
  {
   "cell_type": "code",
   "execution_count": 7,
   "metadata": {},
   "outputs": [
    {
     "name": "stdout",
     "output_type": "stream",
     "text": [
      "Total de datos faltantes en  cod_pais :  0\n",
      "Total de datos faltantes en  nom_pais :  0\n",
      "Total de datos faltantes en  region :  0\n",
      "Total de datos faltantes en  anio :  0\n",
      "Total de datos faltantes en  co2 :  2095\n",
      "Total de datos faltantes en  co2_percapita :  2098\n",
      "------------------------\n",
      "Total de datos : 62,569\n",
      "Total de datos faltantes: 4,193 \n"
     ]
    }
   ],
   "source": [
    "numDatos = 0\n",
    "count = 0\n",
    "total = 0\n",
    "for d in data.keys():\n",
    "    for k in data[d]:\n",
    "        if k == \"\":\n",
    "            count+=1\n",
    "        else:\n",
    "            numDatos +=1\n",
    "    print(\"Total de datos faltantes en \",d,\": \",count)\n",
    "    total += count\n",
    "    count=0\n",
    "\n",
    "print(\"------------------------\")\n",
    "print(f\"Total de datos : {numDatos:,}\")\n",
    "print(f\"Total de datos faltantes: {total:,} \")\n"
   ]
  },
  {
   "attachments": {},
   "cell_type": "markdown",
   "metadata": {},
   "source": [
    "#### e) ¿Cuál es el total de emisiones de CO2 para 'América Latina y Caribe' en el año 2010?"
   ]
  },
  {
   "cell_type": "code",
   "execution_count": 16,
   "metadata": {},
   "outputs": [
    {
     "name": "stdout",
     "output_type": "stream",
     "text": [
      "{'Código de país': 'ABW', 'Nombre del país': 'Aruba', 'Región': 'América Latina y Caribe', 'Año': '1960', 'CO2 (kt)': '', 'CO2 per cápita (toneladas métricas)': ''}\n"
     ]
    }
   ],
   "source": [
    "import csv\n",
    "dicc_emisiones = { }\n",
    "resultado = []\n",
    "\n",
    "#Cargo los datos en una lista que contenga un diccionario por renglon\n",
    "with open('Emisiones_CO2.csv',newline='', mode='r') as csvFile:\n",
    "    reader = csv.DictReader(csvFile,delimiter='|')\n",
    "    for row in reader:\n",
    "        resultado.append(row)\n",
    "\n",
    "    print(resultado[0])  #Imprimo el primer renglon /Diccionario\n"
   ]
  },
  {
   "cell_type": "code",
   "execution_count": 44,
   "metadata": {},
   "outputs": [
    {
     "name": "stdout",
     "output_type": "stream",
     "text": [
      "El total de CO2 en la region es: 1,691,634.80\n"
     ]
    }
   ],
   "source": [
    "# Modifica una cadena con un numero con formato europeo a americano\n",
    "# Retorna un numero flotante\n",
    "def string_to_number(cadena):\n",
    "   if(cadena == \"\"):\n",
    "      return 0\n",
    "   else:\n",
    "      sNum = cadena\n",
    "      sNum = sNum.replace(\".\", \"\") \n",
    "      sNum = sNum.replace(\",\", \".\") \n",
    "      num = float(sNum)\n",
    "      return num\n",
    "   \n",
    "# -------------------------------------------------------\n",
    "total =0.0\n",
    "\n",
    "#Recorre los diccionarios y los filtra\n",
    "for res in resultado:\n",
    "   if res['Región'] == 'América Latina y Caribe' and res['Año'] == '2010' :\n",
    "      numero = string_to_number(res['CO2 (kt)'])\n",
    "      total  += numero\n",
    "print(f\"El total de CO2 en la region es: {total:,.2f}\")"
   ]
  },
  {
   "cell_type": "code",
   "execution_count": null,
   "metadata": {},
   "outputs": [],
   "source": []
  },
  {
   "cell_type": "code",
   "execution_count": null,
   "metadata": {},
   "outputs": [],
   "source": []
  }
 ],
 "metadata": {
  "kernelspec": {
   "display_name": "Python 3",
   "language": "python",
   "name": "python3"
  },
  "language_info": {
   "codemirror_mode": {
    "name": "ipython",
    "version": 3
   },
   "file_extension": ".py",
   "mimetype": "text/x-python",
   "name": "python",
   "nbconvert_exporter": "python",
   "pygments_lexer": "ipython3",
   "version": "3.10.10"
  },
  "orig_nbformat": 4,
  "vscode": {
   "interpreter": {
    "hash": "53c363dd21392edfc73f550c3ad5522e03d01d2c564ea234857e8b90909ac8d1"
   }
  }
 },
 "nbformat": 4,
 "nbformat_minor": 2
}
