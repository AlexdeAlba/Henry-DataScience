{
 "cells": [
  {
   "cell_type": "markdown",
   "metadata": {},
   "source": [
    "# Práctica Clase 7"
   ]
  },
  {
   "cell_type": "markdown",
   "metadata": {},
   "source": [
    "1) Diseñar una clase que permita trabajar con un árbol binario y que contenga los métodos:<br>\n",
    "    * insertaVal: para insertar un dato<br>\n",
    "    * buscaVal: que devuelva True o False si existe o no un dato<br>\n",
    "    * verVal: que imprima por pantalla los valores del árbol<br>\n",
    "\n",
    "Nota: Se puede utilizar la recursividad\n"
   ]
  },
  {
   "cell_type": "code",
   "execution_count": 16,
   "metadata": {},
   "outputs": [],
   "source": [
    "class Nodo:\n",
    "    def __init__(self):\n",
    "        self.izq = None\n",
    "        self.der = None\n",
    "        self.dato = None\n",
    "\n",
    "    def insertaVal(self, dato):\n",
    "        if self.dato:\n",
    "            if dato < self.dato:\n",
    "                if self.izq == None:\n",
    "                    self.izq = Nodo()\n",
    "                    insertaVal(dato)\n",
    "                else:\n",
    "                    self.izq.insertaVal()\n",
    "            elif dato > self.dato:\n",
    "                if self.der == None:\n",
    "                    self.der = Nodo()\n",
    "                    insertaVal(dato)\n",
    "                else:\n",
    "                    self.der.insertaVal(dato)\n",
    "        else:\n",
    "            self.dato = dato\n",
    "\n",
    "    def buscaVal(self, val):\n",
    "        if val < self.dato:\n",
    "            if self.izq == None:\n",
    "                return False\n",
    "            return self.izq.buscaVal(val)\n",
    "        elif val > self.dato:\n",
    "            if self.der == None:\n",
    "                return False\n",
    "            return self.der.buscaVal(val)\n",
    "        else:\n",
    "            return True\n",
    "\n",
    "    def verVal(self):\n",
    "        if self.izq:\n",
    "            self.izq.verVal()\n",
    "        print(self.dato)\n",
    "        if self.der:\n",
    "            self.der.verVal()"
   ]
  },
  {
   "cell_type": "code",
   "execution_count": 17,
   "metadata": {},
   "outputs": [
    {
     "name": "stdout",
     "output_type": "stream",
     "text": [
      "None\n",
      "3\n"
     ]
    },
    {
     "ename": "NameError",
     "evalue": "name 'insertaVal' is not defined",
     "output_type": "error",
     "traceback": [
      "\u001b[1;31m---------------------------------------------------------------------------\u001b[0m",
      "\u001b[1;31mNameError\u001b[0m                                 Traceback (most recent call last)",
      "Cell \u001b[1;32mIn[17], line 5\u001b[0m\n\u001b[0;32m      3\u001b[0m root\u001b[39m.\u001b[39minsertaVal(\u001b[39m3\u001b[39m)\n\u001b[0;32m      4\u001b[0m root\u001b[39m.\u001b[39mverVal()\n\u001b[1;32m----> 5\u001b[0m root\u001b[39m.\u001b[39;49minsertaVal(\u001b[39m13\u001b[39;49m)\n\u001b[0;32m      6\u001b[0m root\u001b[39m.\u001b[39mverVal()\n",
      "Cell \u001b[1;32mIn[16], line 18\u001b[0m, in \u001b[0;36mNodo.insertaVal\u001b[1;34m(self, dato)\u001b[0m\n\u001b[0;32m     16\u001b[0m \u001b[39mif\u001b[39;00m \u001b[39mself\u001b[39m\u001b[39m.\u001b[39mder \u001b[39m==\u001b[39m \u001b[39mNone\u001b[39;00m:\n\u001b[0;32m     17\u001b[0m     \u001b[39mself\u001b[39m\u001b[39m.\u001b[39mder \u001b[39m=\u001b[39m Nodo()\n\u001b[1;32m---> 18\u001b[0m     insertaVal(dato)\n\u001b[0;32m     19\u001b[0m \u001b[39melse\u001b[39;00m:\n\u001b[0;32m     20\u001b[0m     \u001b[39mself\u001b[39m\u001b[39m.\u001b[39mder\u001b[39m.\u001b[39minsertaVal(dato)\n",
      "\u001b[1;31mNameError\u001b[0m: name 'insertaVal' is not defined"
     ]
    }
   ],
   "source": [
    "root = Nodo()\n",
    "root.verVal()\n",
    "root.insertaVal(3)\n",
    "root.verVal()\n",
    "root.insertaVal(13)\n",
    "root.verVal()\n"
   ]
  },
  {
   "cell_type": "code",
   "execution_count": 10,
   "metadata": {},
   "outputs": [
    {
     "ename": "TypeError",
     "evalue": "Nodo.__init__() takes 1 positional argument but 2 were given",
     "output_type": "error",
     "traceback": [
      "\u001b[1;31m---------------------------------------------------------------------------\u001b[0m",
      "\u001b[1;31mTypeError\u001b[0m                                 Traceback (most recent call last)",
      "Cell \u001b[1;32mIn[10], line 2\u001b[0m\n\u001b[0;32m      1\u001b[0m root\u001b[39m.\u001b[39minsertaVal(\u001b[39m3\u001b[39m)\n\u001b[1;32m----> 2\u001b[0m root\u001b[39m.\u001b[39;49minsertaVal(\u001b[39m13\u001b[39;49m)\n\u001b[0;32m      3\u001b[0m root\u001b[39m.\u001b[39minsertaVal(\u001b[39m1\u001b[39m)\n\u001b[0;32m      4\u001b[0m root\u001b[39m.\u001b[39minsertaVal(\u001b[39m8\u001b[39m)\n",
      "Cell \u001b[1;32mIn[5], line 16\u001b[0m, in \u001b[0;36mNodo.insertaVal\u001b[1;34m(self, dato)\u001b[0m\n\u001b[0;32m     14\u001b[0m \u001b[39melif\u001b[39;00m dato \u001b[39m>\u001b[39m \u001b[39mself\u001b[39m\u001b[39m.\u001b[39mdato:\n\u001b[0;32m     15\u001b[0m     \u001b[39mif\u001b[39;00m \u001b[39mself\u001b[39m\u001b[39m.\u001b[39mder \u001b[39m==\u001b[39m \u001b[39mNone\u001b[39;00m:\n\u001b[1;32m---> 16\u001b[0m         \u001b[39mself\u001b[39m\u001b[39m.\u001b[39mder \u001b[39m=\u001b[39m Nodo(dato)\n\u001b[0;32m     17\u001b[0m     \u001b[39melse\u001b[39;00m:\n\u001b[0;32m     18\u001b[0m         \u001b[39mself\u001b[39m\u001b[39m.\u001b[39mder\u001b[39m.\u001b[39minsertaVal(dato)\n",
      "\u001b[1;31mTypeError\u001b[0m: Nodo.__init__() takes 1 positional argument but 2 were given"
     ]
    }
   ],
   "source": [
    "root.insertaVal(3)\n",
    "root.insertaVal(13)\n",
    "root.insertaVal(1)\n",
    "root.insertaVal(8)\n",
    "root.insertaVal(20)"
   ]
  },
  {
   "cell_type": "code",
   "execution_count": 4,
   "metadata": {},
   "outputs": [
    {
     "name": "stdout",
     "output_type": "stream",
     "text": [
      "8 Encontrado!\n"
     ]
    }
   ],
   "source": [
    "valorBuscado = 8\n",
    "if (root.buscaVal(valorBuscado)):\n",
    "    print(valorBuscado, 'Encontrado!')\n",
    "else:\n",
    "    print(valorBuscado, 'No Encontrado!')"
   ]
  },
  {
   "cell_type": "code",
   "execution_count": 5,
   "metadata": {},
   "outputs": [
    {
     "name": "stdout",
     "output_type": "stream",
     "text": [
      "1\n",
      "3\n",
      "8\n",
      "10\n",
      "13\n",
      "20\n"
     ]
    }
   ],
   "source": [
    "root.verVal()"
   ]
  },
  {
   "cell_type": "code",
   "execution_count": 6,
   "metadata": {},
   "outputs": [],
   "source": [
    "root.insertaVal(9)"
   ]
  },
  {
   "cell_type": "code",
   "execution_count": 7,
   "metadata": {},
   "outputs": [
    {
     "name": "stdout",
     "output_type": "stream",
     "text": [
      "1\n",
      "3\n",
      "8\n",
      "9\n",
      "10\n",
      "13\n",
      "20\n"
     ]
    }
   ],
   "source": [
    "root.verVal()"
   ]
  },
  {
   "cell_type": "code",
   "execution_count": null,
   "metadata": {},
   "outputs": [],
   "source": []
  }
 ],
 "metadata": {
  "kernelspec": {
   "display_name": "HDS",
   "language": "python",
   "name": "python3"
  },
  "language_info": {
   "codemirror_mode": {
    "name": "ipython",
    "version": 3
   },
   "file_extension": ".py",
   "mimetype": "text/x-python",
   "name": "python",
   "nbconvert_exporter": "python",
   "pygments_lexer": "ipython3",
   "version": "3.11.2"
  },
  "vscode": {
   "interpreter": {
    "hash": "787ecc562d45c363e3b38f98f05280f88cf8dc5f0273daa9ac597a44bc3e73ab"
   }
  }
 },
 "nbformat": 4,
 "nbformat_minor": 4
}
