{
 "cells": [
  {
   "cell_type": "markdown",
   "metadata": {},
   "source": [
    "# Práctica Clase 1 "
   ]
  },
  {
   "cell_type": "markdown",
   "metadata": {},
   "source": [
    "1) Crear una función capaz de convertir números enteros de base 10 a base 2. Debe recibir como parámetro el número a convertir<br>\n",
    "Consideraciones:<br> \n",
    "a. Tratar de resolverlo sin usar la función format(nro,\"b\")<br>\n",
    "b. El pdf \"conversion-de-decimal-a-binario.pdf\" puede servir de ayuda.\n"
   ]
  },
  {
   "cell_type": "code",
   "execution_count": 6,
   "metadata": {},
   "outputs": [],
   "source": [
    "def NumeroBinario(numero):\n",
    "    '''\n",
    "    Esta función recibe como parámetro un número entero mayor ó igual a cero y lo devuelve en su \n",
    "    representación binaria. Debe recibir y devolver un valor de tipo entero.\n",
    "    En caso de que el parámetro no sea de tipo entero y mayor a -1 retorna nulo.\n",
    "    '''\n",
    "    \n",
    "    if(type(numero) != int or numero < 0):\n",
    "        return(None)\n",
    "    if(numero==0):\n",
    "        return(0)\n",
    "    \n",
    "    sBinario = \"\"\n",
    "    while(numero > 0):\n",
    "        rest = str(numero % 2)\n",
    "        numero = numero // 2\n",
    "        sBinario = rest + sBinario        \n",
    "    return int(sBinario)"
   ]
  },
  {
   "cell_type": "code",
   "execution_count": 6,
   "metadata": {},
   "outputs": [
    {
     "name": "stdout",
     "output_type": "stream",
     "text": [
      "abcdfg\n"
     ]
    },
    {
     "data": {
      "text/plain": [
       "<function list.reverse()>"
      ]
     },
     "execution_count": 6,
     "metadata": {},
     "output_type": "execute_result"
    }
   ],
   "source": [
    "lista = ['a','b','c','d','f','g']\n",
    "pru=lista.reverse\n",
    "\n",
    "res = ''.join(lista)\n",
    "print(res)\n",
    "pru"
   ]
  },
  {
   "cell_type": "code",
   "execution_count": 7,
   "metadata": {},
   "outputs": [
    {
     "name": "stdout",
     "output_type": "stream",
     "text": [
      "4 \t => 100\n",
      "128 \t => 10000000\n",
      "35 \t => 100011\n",
      "55 \t => 110111\n",
      "2 \t => 10\n",
      "1 \t => 1\n",
      "9 \t => 1001\n",
      "12 \t => 1100\n",
      "156 \t => 10011100\n"
     ]
    }
   ],
   "source": [
    "#Ejemplo:\n",
    "numeros = [4,128,35,55,2,1,9,12,156]\n",
    "for n in numeros:\n",
    "    print(f\"{n} \\t => {NumeroBinario(n)}\")"
   ]
  },
  {
   "cell_type": "markdown",
   "metadata": {},
   "source": [
    "2) Convertir de decimal a binario las fracciones 1/2, 1/3, 1/4, 1/5, 1/6, 1/7, 1/8, 1/9. Luego analizar los resultados y observar qué particularidad se encuentra en los mismos. Se puede usar Python o una calculadora, lo importante es ver si hay algo que podemos notar..."
   ]
  },
  {
   "cell_type": "code",
   "execution_count": 2,
   "metadata": {},
   "outputs": [],
   "source": [
    "from math import modf\n",
    "\n",
    "def FraccionBinaria(decimal,presicion):\n",
    "    '''\n",
    "    Esta función recibe como parámetro una fraccion y la presicion, \n",
    "    convirtiendo esta fraccion de decimal a . Debe recibir y devolver un valor de tipo entero.\n",
    "    En caso de que el parámetro no sea de tipo entero y mayor a -1 retorna nulo.\n",
    "    '''\n",
    "    decimal, entero = modf(decimal)\n",
    "    sBinario = \"\"\n",
    "    for i in range(presicion):\n",
    "        decimal = decimal * 2\n",
    "        decimal, entero = modf(decimal)\n",
    "        sBinario = sBinario + str(int(entero))        \n",
    "    return sBinario"
   ]
  },
  {
   "cell_type": "code",
   "execution_count": null,
   "metadata": {},
   "outputs": [],
   "source": []
  },
  {
   "cell_type": "code",
   "execution_count": 3,
   "metadata": {},
   "outputs": [
    {
     "name": "stdout",
     "output_type": "stream",
     "text": [
      "0.50000000 \t => 0.10000000\n",
      "0.33333333 \t => 0.01010101\n",
      "0.25000000 \t => 0.01000000\n",
      "0.20000000 \t => 0.00110011\n",
      "0.16666667 \t => 0.00101010\n",
      "0.14285714 \t => 0.00100100\n",
      "0.12500000 \t => 0.00100000\n",
      "0.11111111 \t => 0.00011100\n"
     ]
    }
   ],
   "source": [
    "#Ejemplo:\n",
    "#numeros = [1/3,4.25,128.3,0.35,0.55,2.1,1.14,9.1273,0.12,12.156]\n",
    "numeros = [1/2, 1/3, 1/4, 1/5, 1/6, 1/7, 1/8, 1/9]\n",
    "numDecimales = 8\n",
    "for n in numeros:\n",
    "    decimal, entero = modf(n)\n",
    "    numero = int(entero)\n",
    "    print(f\"{n:.8f} \\t => {NumeroBinario(numero)}.{FraccionBinaria(n,numDecimales)}\")"
   ]
  },
  {
   "cell_type": "markdown",
   "metadata": {},
   "source": [
    "Salida esperada:\n",
    "* Fraccion 1 / 2 :  0.5  y En binario:  0.1\n",
    "* Fraccion 1 / 3 :  0.3333333333333333  y En binario:  0.010101010101010101010101\n",
    "* Fraccion 1 / 4 :  0.25  y En binario:  0.01\n",
    "* Fraccion 1 / 5 :  0.2  y En binario:  0.001100110011001100110011\n",
    "* Fraccion 1 / 6 :  0.16666666666666666  y En binario:  0.001010101010101010101010\n",
    "* Fraccion 1 / 7 :  0.14285714285714285  y En binario:  0.001001001001001001001001\n",
    "* Fraccion 1 / 8 :  0.125  y En binario:  0.001\n",
    "* Fraccion 1 / 9 :  0.1111111111111111  y En binario:  0.000111000111000111000111"
   ]
  }
 ],
 "metadata": {
  "kernelspec": {
   "display_name": "Python 3",
   "language": "python",
   "name": "python3"
  },
  "language_info": {
   "codemirror_mode": {
    "name": "ipython",
    "version": 3
   },
   "file_extension": ".py",
   "mimetype": "text/x-python",
   "name": "python",
   "nbconvert_exporter": "python",
   "pygments_lexer": "ipython3",
   "version": "3.10.10"
  },
  "orig_nbformat": 4,
  "vscode": {
   "interpreter": {
    "hash": "53c363dd21392edfc73f550c3ad5522e03d01d2c564ea234857e8b90909ac8d1"
   }
  }
 },
 "nbformat": 4,
 "nbformat_minor": 2
}
